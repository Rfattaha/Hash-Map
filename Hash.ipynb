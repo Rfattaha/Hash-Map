{
 "cells": [
  {
   "attachments": {},
   "cell_type": "markdown",
   "metadata": {},
   "source": [
    "Bir tane separate chainingli hash table\n",
    "bir tane linear probing open address\n",
    "bir tane double hash open address\n",
    "\n",
    "search/insert ve load factor arasındaki ilişkiyi kıyasla\n"
   ]
  },
  {
   "attachments": {},
   "cell_type": "markdown",
   "metadata": {},
   "source": [
    "There is no logic for the add load factor on the spearate chaining cause its workin like linked list"
   ]
  },
  {
   "attachments": {},
   "cell_type": "markdown",
   "metadata": {},
   "source": [
    "Separate Chaining"
   ]
  },
  {
   "cell_type": "code",
   "execution_count": 40,
   "metadata": {},
   "outputs": [
    {
     "name": "stdout",
     "output_type": "stream",
     "text": [
      "Mathura\n"
     ]
    },
    {
     "data": {
      "text/plain": [
       "[[('Allahabad', 10), ('Mathura', 20)],\n",
       " [('Noida', 21)],\n",
       " [('Punjab', 22)],\n",
       " [('Ali', 23)],\n",
       " [('Anna', 24)],\n",
       " [('Mumbai', 25)],\n",
       " [('Mam', 26)],\n",
       " [],\n",
       " [],\n",
       " [('Delhi', 9)]]"
      ]
     },
     "execution_count": 40,
     "metadata": {},
     "output_type": "execute_result"
    }
   ],
   "source": [
    "def display_hash(hashTable):\n",
    "      \n",
    "    for i in range(len(hashTable)):\n",
    "        print(i, end = \" \")\n",
    "          \n",
    "        for j in hashTable[i]:\n",
    "            print(\"-->\", end = \" \")\n",
    "            print(j, end = \" \")\n",
    "              \n",
    "        print()\n",
    "\n",
    "HashTable = [[] for _ in range(10)]\n",
    "  \n",
    "# Hashing Function to return \n",
    "# key for every value.\n",
    "def Hashing(keyvalue):\n",
    "    return keyvalue % len(HashTable)\n",
    "\n",
    "def Search(HashTable,keyvalue):\n",
    "    hash_key = Hashing(keyvalue)\n",
    "    flag = 0\n",
    "    i = 0\n",
    "    while HashTable[hash_key][i]:\n",
    "        if flag > 0:\n",
    "            break\n",
    "        while HashTable[hash_key][i][i]:\n",
    "            if HashTable[hash_key][i][1] == keyvalue:\n",
    "                print(HashTable[hash_key][i][0])\n",
    "                flag = 1\n",
    "                break\n",
    "            i += 1\n",
    "        \n",
    "def reHashing(HashTable):\n",
    "    temp = HashTable\n",
    "    HashTable = [[] for i in range(len(HashTable) * 2)]\n",
    "    print(HashTable)\n",
    "    return True\n",
    "\n",
    "  \n",
    "# Insert Function to add\n",
    "# values to the hash table\n",
    "def insert(Hashtable, keyvalue, value,countinserted,load_Factor):\n",
    "    hash_key = Hashing(keyvalue)\n",
    "    Hashtable[hash_key].append((value,keyvalue))\n",
    "    if not HashTable[hash_key]:\n",
    "        countinserted += 1\n",
    "    if countinserted / len(HashTable) > load_Factor:\n",
    "        reHashing(HashTable)\n",
    "\n",
    "\n",
    "# Driver Code\n",
    "load_Factor = 0.75\n",
    "count_of_inserted_item = 0\n",
    "insert(HashTable, 10, 'Allahabad',count_of_inserted_item, load_Factor)\n",
    "insert(HashTable, 25, 'Mumbai',count_of_inserted_item, load_Factor)\n",
    "insert(HashTable, 20, 'Mathura',count_of_inserted_item, load_Factor)\n",
    "insert(HashTable, 9, 'Delhi',count_of_inserted_item, load_Factor)\n",
    "insert(HashTable, 22, 'Punjab',count_of_inserted_item, load_Factor)\n",
    "insert(HashTable, 21, 'Noida',count_of_inserted_item, load_Factor)\n",
    "insert(HashTable, 23, 'Ali',count_of_inserted_item, load_Factor)\n",
    "insert(HashTable, 24, 'Anna',count_of_inserted_item, load_Factor)\n",
    "insert(HashTable, 26, 'Mam',count_of_inserted_item, load_Factor)\n",
    "\n",
    "Search(HashTable,20)\n",
    "HashTable\n"
   ]
  },
  {
   "attachments": {},
   "cell_type": "markdown",
   "metadata": {},
   "source": [
    "Linear Probing"
   ]
  },
  {
   "cell_type": "code",
   "execution_count": 65,
   "metadata": {},
   "outputs": [
    {
     "name": "stdout",
     "output_type": "stream",
     "text": [
      "Punjab\n",
      "Noida\n",
      "Anna\n",
      "Banna\n",
      "[[('Mathura', 20)], [('Punjab', 21)], [('Noida', 21)], [('Anna', 21)], [('Banna', 21)], [('Mumbai', 25)], [], [], [], [('Delhi', 9)], [('Allahabad', 10)], [], [], [], [], [], [], [], [], []]\n"
     ]
    }
   ],
   "source": [
    "count_of_inserted_itemForLinearHash = 0\n",
    "\n",
    "LinearHash = [[] for i in range(10)]\n",
    "\n",
    "def Hashing(keyvalue,Hash):\n",
    "    return keyvalue % len(Hash)\n",
    "\n",
    "def reHashing(load_Factor):\n",
    "    global count_of_inserted_itemForLinearHash\n",
    "    global LinearHash\n",
    "    count_of_inserted_itemForLinearHash = 0\n",
    "    temp = LinearHash\n",
    "    LinearHash = [[] for i in range(len(LinearHash) * 2)]\n",
    "    for i in temp:\n",
    "        if not i:\n",
    "            continue\n",
    "        else:\n",
    "            insert(LinearHash,i[0][1],i[0][0],load_Factor)  \n",
    "    \n",
    "\n",
    "def insert(LinearHash, keyvalue, value,load_Factor):\n",
    "    global count_of_inserted_itemForLinearHash\n",
    "    hash_key = Hashing(keyvalue,LinearHash)\n",
    "    i = hash_key\n",
    "    if not LinearHash[hash_key]:\n",
    "        count_of_inserted_itemForLinearHash += 1\n",
    "        LinearHash[hash_key].append((value,keyvalue))\n",
    "        if count_of_inserted_itemForLinearHash / len(LinearHash) > load_Factor:\n",
    "                reHashing(load_Factor)\n",
    "    else:\n",
    "        while i < len(LinearHash):\n",
    "            i += 1\n",
    "            if i == len(LinearHash):\n",
    "                break\n",
    "            if not LinearHash[i] :\n",
    "                count_of_inserted_itemForLinearHash += 1\n",
    "                LinearHash[i].append((value,keyvalue))\n",
    "                if count_of_inserted_itemForLinearHash / len(LinearHash) > load_Factor:\n",
    "                    reHashing(load_Factor)\n",
    "                break\n",
    "\n",
    "def Search(HashTable,keyvalue):\n",
    "    hash_key = Hashing(keyvalue,HashTable)\n",
    "    i = 0\n",
    "    while hash_key + i < len(HashTable):\n",
    "        if HashTable[hash_key + i] and HashTable[hash_key + i][0][1]== keyvalue:\n",
    "            print(HashTable[hash_key + i][0][0])\n",
    "        i += 1\n",
    "        \n",
    "        \n",
    "\n",
    "\n",
    "load_Factor = 0.75\n",
    "insert(LinearHash, 10, 'Allahabad',load_Factor)\n",
    "insert(LinearHash, 25, 'Mumbai',load_Factor)\n",
    "insert(LinearHash, 20, 'Mathura',load_Factor)\n",
    "insert(LinearHash, 9, 'Delhi',load_Factor)\n",
    "insert(LinearHash, 21, 'Punjab',load_Factor)\n",
    "insert(LinearHash, 21, 'Noida',load_Factor)  \n",
    "insert(LinearHash, 21, 'Anna',load_Factor)  \n",
    "insert(LinearHash, 21, 'Banna',load_Factor)\n",
    "\n",
    "Search(LinearHash,21)\n",
    "print(LinearHash)\n"
   ]
  },
  {
   "attachments": {},
   "cell_type": "markdown",
   "metadata": {},
   "source": [
    "Double Hashing"
   ]
  },
  {
   "cell_type": "code",
   "execution_count": 90,
   "metadata": {},
   "outputs": [
    {
     "name": "stdout",
     "output_type": "stream",
     "text": [
      "Punjab\n",
      "Anna\n",
      "Banna\n",
      "Noida\n",
      "Punjab\n"
     ]
    }
   ],
   "source": [
    "#  hash1 + j. hash2\n",
    "#hash1 mod and hash2 mode have to be prime number between them\n",
    "# if hash2 mod is 7 formul will be = 7 - k mod 7\n",
    "# hash1 will be k mod 13 ex...\n",
    "count_of_inserted_itemForDoubleHash = 0\n",
    "\n",
    "DoubleHash = [[] for i in range(10)]\n",
    "\n",
    "def Hashing(keyvalue):\n",
    "    return keyvalue % len(DoubleHash)\n",
    "\n",
    "def Hashing2(keyvalue):\n",
    "    return (len(DoubleHash) - 2 ) - (keyvalue % (len(DoubleHash) - 2 ) ) \n",
    "\n",
    "\n",
    "def reHashing(load_Factor):\n",
    "    global count_of_inserted_itemForDoubleHash\n",
    "    global DoubleHash\n",
    "    count_of_inserted_itemForDoubleHash = 0\n",
    "    temp = DoubleHash\n",
    "    DoubleHash = [[] for i in range(len(DoubleHash) * 2)]\n",
    "    for i in temp:\n",
    "        if not i:\n",
    "            continue\n",
    "        else:\n",
    "            insert(DoubleHash,i[0][1],i[0][0],load_Factor)  \n",
    "\n",
    "\n",
    "def insert(DoubleHash, keyvalue, value,load_Factor):\n",
    "    global count_of_inserted_itemForDoubleHash\n",
    "    hash_key = Hashing(keyvalue)\n",
    "    hash_key2 = Hashing2(keyvalue)\n",
    "    i = hash_key2\n",
    "    j = 0\n",
    "    if not DoubleHash[hash_key]:\n",
    "        count_of_inserted_itemForDoubleHash += 1\n",
    "        DoubleHash[hash_key].append((value,keyvalue))\n",
    "        if count_of_inserted_itemForDoubleHash / len(DoubleHash) > load_Factor:\n",
    "                reHashing(load_Factor)\n",
    "    else:\n",
    "        while i < len(DoubleHash):\n",
    "            DoubleHashIndex = (hash_key + (j * hash_key2)) % len(DoubleHash)\n",
    "            if DoubleHashIndex >= len(DoubleHash):\n",
    "                break\n",
    "            if not DoubleHash[DoubleHashIndex]:\n",
    "                count_of_inserted_itemForDoubleHash += 1\n",
    "                DoubleHash[DoubleHashIndex].append((value,keyvalue))\n",
    "                if count_of_inserted_itemForDoubleHash / len(DoubleHash) > load_Factor:\n",
    "                    reHashing(load_Factor)\n",
    "                break\n",
    "            i += 1 \n",
    "            j += 1\n",
    "\n",
    "def Search(HashTable,keyvalue):\n",
    "    hash_key = Hashing(keyvalue)\n",
    "    hash_key2 = Hashing2(keyvalue)\n",
    "    i = hash_key2\n",
    "    j = 0\n",
    "    temp = []\n",
    "    while i < len(DoubleHash):\n",
    "        DoubleHashIndex = (hash_key + (j * hash_key2)) % len(DoubleHash)\n",
    "        if HashTable[DoubleHashIndex] and HashTable[DoubleHashIndex][0][1] == keyvalue:\n",
    "            temp.append(HashTable[DoubleHashIndex][0][0])\n",
    "            if len(temp) > 1:\n",
    "                if temp[0] == temp[1]:\n",
    "                    break\n",
    "            print(HashTable[DoubleHashIndex][0][0])\n",
    "            \n",
    "        i += 1\n",
    "        j += 1     \n",
    "\n",
    "load_Factor = 0.75\n",
    "insert(DoubleHash, 10, 'Allahabad',load_Factor)\n",
    "insert(DoubleHash, 25, 'Mumbai',load_Factor)\n",
    "insert(DoubleHash, 20, 'Mathura',load_Factor)\n",
    "insert(DoubleHash, 9, 'Delhi',load_Factor)\n",
    "insert(DoubleHash, 21, 'Punjab',load_Factor)\n",
    "insert(DoubleHash, 21, 'Noida',load_Factor)  \n",
    "insert(DoubleHash, 21, 'Anna',load_Factor)  \n",
    "insert(DoubleHash, 21, 'Banna',load_Factor)\n",
    "\n",
    "Search(DoubleHash,21)"
   ]
  },
  {
   "attachments": {},
   "cell_type": "markdown",
   "metadata": {},
   "source": [
    "In the Load factor when the bucket  pass the 0.75 load factor  bucket will be resized to 2x and after that when we instert in the past wil be rehashing again de new hashMap"
   ]
  },
  {
   "attachments": {},
   "cell_type": "markdown",
   "metadata": {},
   "source": [
    "1. In the Separate Chaining system working like linear probing but diff is when we insert the item we did not increase the index we are gonna push it to the same index like Linked List Data Structure\n",
    "\n",
    "2. In the Linear Probing we are gonna add the items with hash_key if slot is full we will increase the index until the find a free slot\n",
    "\n",
    "3. In the Double Hashing we are gonna use the formula (hash1 + (j. hash2) mod len(Hashmap)) for the inserting until find a free slot\n"
   ]
  }
 ],
 "metadata": {
  "kernelspec": {
   "display_name": "Python 3",
   "language": "python",
   "name": "python3"
  },
  "language_info": {
   "codemirror_mode": {
    "name": "ipython",
    "version": 3
   },
   "file_extension": ".py",
   "mimetype": "text/x-python",
   "name": "python",
   "nbconvert_exporter": "python",
   "pygments_lexer": "ipython3",
   "version": "3.10.2"
  },
  "orig_nbformat": 4
 },
 "nbformat": 4,
 "nbformat_minor": 2
}
